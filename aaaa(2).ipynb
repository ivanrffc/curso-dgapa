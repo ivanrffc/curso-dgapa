{
 "cells": [
  {
   "cell_type": "markdown",
   "metadata": {
    "collapsed": false
   },
   "source": [
    "# Pelota que cae\n",
    "Las ecuaciones de Newton son:\n",
    "$m \\frac{d^2\\vec r}{} =$\n"
   ]
  },
  {
   "cell_type": "markdown",
   "metadata": {},
   "source": [
    "# Pelota que cae\n",
    "Las ecuaciones de Newton son:\n",
    "$m \\frac{d^2\\vec r}{dt^2} =-g \\hat k + \\vec f_{fricc} + \\vec f_{ext} $\n"
   ]
  },
  {
   "cell_type": "code",
   "execution_count": 17,
   "metadata": {
    "collapsed": true
   },
   "outputs": [],
   "source": [
    "from pylab import *\n",
    "from scipy.integrate import *\n",
    "%matplotlib inline"
   ]
  },
  {
   "cell_type": "code",
   "execution_count": 100,
   "metadata": {
    "collapsed": true
   },
   "outputs": [],
   "source": [
    "def fuerza(v_r,t,gamma=0,viento=(0,0), m=1,g=9.8):\n",
    "    # v_r = [ry,rz,vy,vz]\n",
    "    dvz = -g/m - (gamma/m)*v_r[3] + viento[1]\n",
    "    dvy =0 - (gamma/m)*v_r[2] + viento[0]\n",
    "    drz = v_r[3]\n",
    "    dry = v_r[2]\n",
    "    return [dry,drz,dvy,dvz]"
   ]
  },
  {
   "cell_type": "code",
   "execution_count": 87,
   "metadata": {
    "collapsed": false
   },
   "outputs": [
    {
     "name": "stdout",
     "output_type": "stream",
     "text": [
      "[0, 1, 0, 9.8]\n"
     ]
    }
   ],
   "source": [
    "salida=fuerza([0,0,0,1],1)\n",
    "print salida"
   ]
  },
  {
   "cell_type": "code",
   "execution_count": 104,
   "metadata": {
    "collapsed": false
   },
   "outputs": [
    {
     "data": {
      "image/png": "[encoded data removed]",
      "text/plain": [
       "<matplotlib.figure.Figure at 0x7ff00fcc2810>"
      ]
     },
     "metadata": {},
     "output_type": "display_data"
    }
   ],
   "source": [
    "tiempo = linspace(0,1)\n",
    "s_ideal = odeint(fuerza,[0,0,1,5],tiempo)\n",
    "y_id, z_id = s_ideal[:,0],s_ideal[:,1]\n",
    "s_fric = odeint(fuerza,[0,0,1,5],tiempo,args=(0.5,))\n",
    "y_f, z_f =s_fric[:,0],s_fric[:,1]\n",
    "s_f_v = odeint(fuerza,[0,0,1,5],tiempo,args=(0.5,[-1,0],))\n",
    "y_f_v, z_f_v =s_f_v[:,0],s_f_v[:,1]\n",
    "plot(y_id,z_id,y_f,z_f,y_f_v,z_f_v)\n",
    "xlim([0,1.1]),ylim([0,1.4]),grid(True)\n",
    "show()\n"
   ]
  },
  {
   "cell_type": "code",
   "execution_count": 74,
   "metadata": {
    "collapsed": false
   },
   "outputs": [
    {
     "data": {
      "image/png": "[encoded data removed]",
      "text/plain": [
       "<matplotlib.figure.Figure at 0x7ff00f683ad0>"
      ]
     },
     "metadata": {},
     "output_type": "display_data"
    }
   ],
   "source": [
    "tiempo = linspace(0,1)\n",
    "resultado = odeint(fuerza,[0,0,1,5],tiempo)\n",
    "y,z,vy,vz = resultado[:,0],resultado[:,1],resultado[:,2],resultado[:,3]\n",
    "plot (y,z)\n",
    "show()\n"
   ]
  },
  {
   "cell_type": "code",
   "execution_count": 22,
   "metadata": {
    "collapsed": false
   },
   "outputs": [
    {
     "name": "stdout",
     "output_type": "stream",
     "text": [
      "[1, 2, 3, 523, 524, 6666]\n",
      "[2, 3, 523]\n"
     ]
    }
   ],
   "source": [
    "lista = [1,2,3,523,524, 6666]\n",
    "print lista\n",
    "print lista[1:4]"
   ]
  },
  {
   "cell_type": "code",
   "execution_count": 4,
   "metadata": {
    "collapsed": true
   },
   "outputs": [],
   "source": [
    "def mi_funcion(a,b):\n",
    "    c=a+b\n",
    "    return c"
   ]
  },
  {
   "cell_type": "code",
   "execution_count": 71,
   "metadata": {
    "collapsed": false
   },
   "outputs": [
    {
     "name": "stdout",
     "output_type": "stream",
     "text": [
      "11 30\n"
     ]
    }
   ],
   "source": [
    "b=mi_funcion(4,7)\n",
    "c=mi_funcion(b,19)\n",
    "print b,c"
   ]
  },
  {
   "cell_type": "code",
   "execution_count": 72,
   "metadata": {
    "collapsed": false
   },
   "outputs": [
    {
     "name": "stdout",
     "output_type": "stream",
     "text": [
      "13.3\n",
      "12.3\n"
     ]
    }
   ],
   "source": [
    "def mi_funcion(a,b,c=1):\n",
    "    d=a+b+c\n",
    "    return d\n",
    "print mi_funcion(3,9.3)\n",
    "print mi_funcion(3,9.3,0)"
   ]
  },
  {
   "cell_type": "code",
   "execution_count": null,
   "metadata": {
    "collapsed": true
   },
   "outputs": [],
   "source": []
  }
 ],
 "metadata": {
  "kernelspec": {
   "display_name": "Python 2 (SageMath)",
   "language": "python",
   "name": "python2"
  },
  "language_info": {
   "codemirror_mode": {
    "name": "ipython",
    "version": 2
   },
   "file_extension": ".py",
   "mimetype": "text/x-python",
   "name": "python",
   "nbconvert_exporter": "python",
   "pygments_lexer": "ipython2",
   "version": "2.7.10"
  }
 },
 "nbformat": 4,
 "nbformat_minor": 0
}
